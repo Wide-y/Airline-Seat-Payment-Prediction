{
 "cells": [
  {
   "cell_type": "markdown",
   "metadata": {
    "collapsed": true,
    "pycharm": {
     "name": "#%% md\n"
    }
   },
   "source": [
    "# Airline Seat Payment Prediction"
   ]
  },
  {
   "cell_type": "code",
   "execution_count": 1,
   "outputs": [],
   "source": [
    "import pandas as pd"
   ],
   "metadata": {
    "collapsed": false,
    "pycharm": {
     "name": "#%%\n"
    }
   }
  },
  {
   "cell_type": "markdown",
   "source": [
    "## 数据预处理\n",
    "数据导入"
   ],
   "metadata": {
    "collapsed": false
   }
  },
  {
   "cell_type": "code",
   "execution_count": 2,
   "outputs": [],
   "source": [
    "path = 'data.xlsx'\n",
    "# 训练用数据\n",
    "train_data = pd.read_excel(path,sheet_name=0)\n",
    "# 预测用数据\n",
    "predict_data = pd.read_excel(path,sheet_name=1)"
   ],
   "metadata": {
    "collapsed": false,
    "pycharm": {
     "name": "#%%\n"
    }
   }
  },
  {
   "cell_type": "markdown",
   "source": [
    "### 数据预览\n",
    "数据内容"
   ],
   "metadata": {
    "collapsed": false
   }
  },
  {
   "cell_type": "code",
   "execution_count": 3,
   "outputs": [
    {
     "data": {
      "text/plain": "                           pax_name                      pax_passport  \\\n0  9612c51f08718e48b1361e415ef55be9  93d0aceeaef3f85264e5c5b5b1148a90   \n1  c7ca533cd9da4c4bf3d597248f90bc6e  6930f6fa59d86c11fa28c610ab6f56a5   \n2  bd2cb6b0dd56fb3de6f7c018296a07e2  da73afa8f6ededd29d67a9331dccdbe9   \n3  65657872fe131ea7651565638dcb5683  dc31eead23771810dbb586ad236ade3b   \n4  722261f7b860b183da9fe0b6630b6dbf  7689603247539830a08d945cb1a57823   \n\n  seg_route_from seg_route_to seg_flight seg_cabin        seg_dep_time  \\\n0            PVG          JFK     AB1006         J 2018-12-16 20:00:00   \n1            PVG          JFK     AB1006         J 2019-02-18 20:00:00   \n2            PVG          LAX     AB1009         Y 2018-03-09 13:20:00   \n3            PVG          LAX     AB1009         Y 2018-01-02 13:20:00   \n4            PVG          JFK     AB1010         Y 2018-07-06 11:30:00   \n\n   pax_fcny  pax_tax  emd_lable  ...  pit_pay_avg_amt_m3 pit_pay_avg_amt_m6  \\\n0    4161.0   584.43          0  ...                   0                0.0   \n1    1670.0   248.80          1  ...                   0                0.0   \n2     243.0   301.31          1  ...                   0                0.0   \n3    1362.0   454.16          0  ...                   0                0.0   \n4     675.0   284.11          1  ...                   0                0.0   \n\n  pit_pay_avg_amt_y1 pit_pay_avg_amt_y2 pit_pay_avg_amt_y3 pit_add_chnl_m3  \\\n0                0.0                0.0                0.0               0   \n1                0.0                0.0                0.0               0   \n2                0.0                0.0                0.0               0   \n3                0.0                0.0                0.0               0   \n4                0.0                0.0                0.0               0   \n\n  pit_add_chnl_m6 pit_add_chnl_y1 pit_add_chnl_y2  pit_add_chnl_y3  \n0               0               0               0                0  \n1               0               0               0                0  \n2               0               0               0                0  \n3               0               0               0                0  \n4               0               0               0                0  \n\n[5 rows x 657 columns]",
      "text/html": "<div>\n<style scoped>\n    .dataframe tbody tr th:only-of-type {\n        vertical-align: middle;\n    }\n\n    .dataframe tbody tr th {\n        vertical-align: top;\n    }\n\n    .dataframe thead th {\n        text-align: right;\n    }\n</style>\n<table border=\"1\" class=\"dataframe\">\n  <thead>\n    <tr style=\"text-align: right;\">\n      <th></th>\n      <th>pax_name</th>\n      <th>pax_passport</th>\n      <th>seg_route_from</th>\n      <th>seg_route_to</th>\n      <th>seg_flight</th>\n      <th>seg_cabin</th>\n      <th>seg_dep_time</th>\n      <th>pax_fcny</th>\n      <th>pax_tax</th>\n      <th>emd_lable</th>\n      <th>...</th>\n      <th>pit_pay_avg_amt_m3</th>\n      <th>pit_pay_avg_amt_m6</th>\n      <th>pit_pay_avg_amt_y1</th>\n      <th>pit_pay_avg_amt_y2</th>\n      <th>pit_pay_avg_amt_y3</th>\n      <th>pit_add_chnl_m3</th>\n      <th>pit_add_chnl_m6</th>\n      <th>pit_add_chnl_y1</th>\n      <th>pit_add_chnl_y2</th>\n      <th>pit_add_chnl_y3</th>\n    </tr>\n  </thead>\n  <tbody>\n    <tr>\n      <th>0</th>\n      <td>9612c51f08718e48b1361e415ef55be9</td>\n      <td>93d0aceeaef3f85264e5c5b5b1148a90</td>\n      <td>PVG</td>\n      <td>JFK</td>\n      <td>AB1006</td>\n      <td>J</td>\n      <td>2018-12-16 20:00:00</td>\n      <td>4161.0</td>\n      <td>584.43</td>\n      <td>0</td>\n      <td>...</td>\n      <td>0</td>\n      <td>0.0</td>\n      <td>0.0</td>\n      <td>0.0</td>\n      <td>0.0</td>\n      <td>0</td>\n      <td>0</td>\n      <td>0</td>\n      <td>0</td>\n      <td>0</td>\n    </tr>\n    <tr>\n      <th>1</th>\n      <td>c7ca533cd9da4c4bf3d597248f90bc6e</td>\n      <td>6930f6fa59d86c11fa28c610ab6f56a5</td>\n      <td>PVG</td>\n      <td>JFK</td>\n      <td>AB1006</td>\n      <td>J</td>\n      <td>2019-02-18 20:00:00</td>\n      <td>1670.0</td>\n      <td>248.80</td>\n      <td>1</td>\n      <td>...</td>\n      <td>0</td>\n      <td>0.0</td>\n      <td>0.0</td>\n      <td>0.0</td>\n      <td>0.0</td>\n      <td>0</td>\n      <td>0</td>\n      <td>0</td>\n      <td>0</td>\n      <td>0</td>\n    </tr>\n    <tr>\n      <th>2</th>\n      <td>bd2cb6b0dd56fb3de6f7c018296a07e2</td>\n      <td>da73afa8f6ededd29d67a9331dccdbe9</td>\n      <td>PVG</td>\n      <td>LAX</td>\n      <td>AB1009</td>\n      <td>Y</td>\n      <td>2018-03-09 13:20:00</td>\n      <td>243.0</td>\n      <td>301.31</td>\n      <td>1</td>\n      <td>...</td>\n      <td>0</td>\n      <td>0.0</td>\n      <td>0.0</td>\n      <td>0.0</td>\n      <td>0.0</td>\n      <td>0</td>\n      <td>0</td>\n      <td>0</td>\n      <td>0</td>\n      <td>0</td>\n    </tr>\n    <tr>\n      <th>3</th>\n      <td>65657872fe131ea7651565638dcb5683</td>\n      <td>dc31eead23771810dbb586ad236ade3b</td>\n      <td>PVG</td>\n      <td>LAX</td>\n      <td>AB1009</td>\n      <td>Y</td>\n      <td>2018-01-02 13:20:00</td>\n      <td>1362.0</td>\n      <td>454.16</td>\n      <td>0</td>\n      <td>...</td>\n      <td>0</td>\n      <td>0.0</td>\n      <td>0.0</td>\n      <td>0.0</td>\n      <td>0.0</td>\n      <td>0</td>\n      <td>0</td>\n      <td>0</td>\n      <td>0</td>\n      <td>0</td>\n    </tr>\n    <tr>\n      <th>4</th>\n      <td>722261f7b860b183da9fe0b6630b6dbf</td>\n      <td>7689603247539830a08d945cb1a57823</td>\n      <td>PVG</td>\n      <td>JFK</td>\n      <td>AB1010</td>\n      <td>Y</td>\n      <td>2018-07-06 11:30:00</td>\n      <td>675.0</td>\n      <td>284.11</td>\n      <td>1</td>\n      <td>...</td>\n      <td>0</td>\n      <td>0.0</td>\n      <td>0.0</td>\n      <td>0.0</td>\n      <td>0.0</td>\n      <td>0</td>\n      <td>0</td>\n      <td>0</td>\n      <td>0</td>\n      <td>0</td>\n    </tr>\n  </tbody>\n</table>\n<p>5 rows × 657 columns</p>\n</div>"
     },
     "execution_count": 3,
     "metadata": {},
     "output_type": "execute_result"
    }
   ],
   "source": [
    "train_data.head()"
   ],
   "metadata": {
    "collapsed": false,
    "pycharm": {
     "name": "#%%\n"
    }
   }
  },
  {
   "cell_type": "code",
   "execution_count": 4,
   "outputs": [
    {
     "data": {
      "text/plain": "                           pax_name                      pax_passport  \\\n0  21f0b1c838160ac26cb2c57660bc3fd5  83685748783343bccba7a8c3c6a5c813   \n1  21e0621a85f6db6139ff7cf2d53b4e5d  38da646d04551c8ad4652ab9d8a944b0   \n2  197b215b23a93b19f391c422eb27f310  d9ac3f8a7ae010694f2391558a24129c   \n3  92b435f20c6ce2fd5acef7b6ff49b6d0  1ffdb2de8c1ef1c7176f89cbf567ab10   \n4  a38ac8bfe0feb14c0469e2917bc74a05  231a4d2ca500b1bcfb0abcd0247057d0   \n\n  seg_route_from seg_route_to seg_flight seg_cabin        seg_dep_time  \\\n0            PVG          JFK     AB1010         Y 2019-04-10 11:30:00   \n1            PVG          LAX     AB1008         Y 2019-12-04 21:00:00   \n2            PVG          JFK     AB1010         Y 2018-11-29 11:30:00   \n3            PVG          LAX     AB1009         Y 2017-12-20 13:00:00   \n4            PVG          JFK     AB1006         Y 2017-10-24 19:10:00   \n\n   pax_fcny  pax_tax  emd_lable  ...  pit_pay_avg_amt_m3 pit_pay_avg_amt_m6  \\\n0     339.0   227.81          0  ...                   0                0.0   \n1     255.0   250.15          0  ...                   0                0.0   \n2     479.0   411.21          0  ...                   0                0.0   \n3     400.0   571.60          0  ...                   0                0.0   \n4     500.0   279.66          0  ...                   0                0.0   \n\n  pit_pay_avg_amt_y1 pit_pay_avg_amt_y2 pit_pay_avg_amt_y3 pit_add_chnl_m3  \\\n0                0.0                  0                  0               0   \n1                0.0                  0                  0               0   \n2                0.0                  0                  0               0   \n3                0.0                  0                  0               0   \n4                0.0                  0                  0               0   \n\n  pit_add_chnl_m6 pit_add_chnl_y1 pit_add_chnl_y2 pit_add_chnl_y3  \n0               0               0               0               0  \n1               0               0               0               0  \n2               0               0               0               0  \n3               0               0               0               0  \n4               0               0               0               0  \n\n[5 rows x 657 columns]",
      "text/html": "<div>\n<style scoped>\n    .dataframe tbody tr th:only-of-type {\n        vertical-align: middle;\n    }\n\n    .dataframe tbody tr th {\n        vertical-align: top;\n    }\n\n    .dataframe thead th {\n        text-align: right;\n    }\n</style>\n<table border=\"1\" class=\"dataframe\">\n  <thead>\n    <tr style=\"text-align: right;\">\n      <th></th>\n      <th>pax_name</th>\n      <th>pax_passport</th>\n      <th>seg_route_from</th>\n      <th>seg_route_to</th>\n      <th>seg_flight</th>\n      <th>seg_cabin</th>\n      <th>seg_dep_time</th>\n      <th>pax_fcny</th>\n      <th>pax_tax</th>\n      <th>emd_lable</th>\n      <th>...</th>\n      <th>pit_pay_avg_amt_m3</th>\n      <th>pit_pay_avg_amt_m6</th>\n      <th>pit_pay_avg_amt_y1</th>\n      <th>pit_pay_avg_amt_y2</th>\n      <th>pit_pay_avg_amt_y3</th>\n      <th>pit_add_chnl_m3</th>\n      <th>pit_add_chnl_m6</th>\n      <th>pit_add_chnl_y1</th>\n      <th>pit_add_chnl_y2</th>\n      <th>pit_add_chnl_y3</th>\n    </tr>\n  </thead>\n  <tbody>\n    <tr>\n      <th>0</th>\n      <td>21f0b1c838160ac26cb2c57660bc3fd5</td>\n      <td>83685748783343bccba7a8c3c6a5c813</td>\n      <td>PVG</td>\n      <td>JFK</td>\n      <td>AB1010</td>\n      <td>Y</td>\n      <td>2019-04-10 11:30:00</td>\n      <td>339.0</td>\n      <td>227.81</td>\n      <td>0</td>\n      <td>...</td>\n      <td>0</td>\n      <td>0.0</td>\n      <td>0.0</td>\n      <td>0</td>\n      <td>0</td>\n      <td>0</td>\n      <td>0</td>\n      <td>0</td>\n      <td>0</td>\n      <td>0</td>\n    </tr>\n    <tr>\n      <th>1</th>\n      <td>21e0621a85f6db6139ff7cf2d53b4e5d</td>\n      <td>38da646d04551c8ad4652ab9d8a944b0</td>\n      <td>PVG</td>\n      <td>LAX</td>\n      <td>AB1008</td>\n      <td>Y</td>\n      <td>2019-12-04 21:00:00</td>\n      <td>255.0</td>\n      <td>250.15</td>\n      <td>0</td>\n      <td>...</td>\n      <td>0</td>\n      <td>0.0</td>\n      <td>0.0</td>\n      <td>0</td>\n      <td>0</td>\n      <td>0</td>\n      <td>0</td>\n      <td>0</td>\n      <td>0</td>\n      <td>0</td>\n    </tr>\n    <tr>\n      <th>2</th>\n      <td>197b215b23a93b19f391c422eb27f310</td>\n      <td>d9ac3f8a7ae010694f2391558a24129c</td>\n      <td>PVG</td>\n      <td>JFK</td>\n      <td>AB1010</td>\n      <td>Y</td>\n      <td>2018-11-29 11:30:00</td>\n      <td>479.0</td>\n      <td>411.21</td>\n      <td>0</td>\n      <td>...</td>\n      <td>0</td>\n      <td>0.0</td>\n      <td>0.0</td>\n      <td>0</td>\n      <td>0</td>\n      <td>0</td>\n      <td>0</td>\n      <td>0</td>\n      <td>0</td>\n      <td>0</td>\n    </tr>\n    <tr>\n      <th>3</th>\n      <td>92b435f20c6ce2fd5acef7b6ff49b6d0</td>\n      <td>1ffdb2de8c1ef1c7176f89cbf567ab10</td>\n      <td>PVG</td>\n      <td>LAX</td>\n      <td>AB1009</td>\n      <td>Y</td>\n      <td>2017-12-20 13:00:00</td>\n      <td>400.0</td>\n      <td>571.60</td>\n      <td>0</td>\n      <td>...</td>\n      <td>0</td>\n      <td>0.0</td>\n      <td>0.0</td>\n      <td>0</td>\n      <td>0</td>\n      <td>0</td>\n      <td>0</td>\n      <td>0</td>\n      <td>0</td>\n      <td>0</td>\n    </tr>\n    <tr>\n      <th>4</th>\n      <td>a38ac8bfe0feb14c0469e2917bc74a05</td>\n      <td>231a4d2ca500b1bcfb0abcd0247057d0</td>\n      <td>PVG</td>\n      <td>JFK</td>\n      <td>AB1006</td>\n      <td>Y</td>\n      <td>2017-10-24 19:10:00</td>\n      <td>500.0</td>\n      <td>279.66</td>\n      <td>0</td>\n      <td>...</td>\n      <td>0</td>\n      <td>0.0</td>\n      <td>0.0</td>\n      <td>0</td>\n      <td>0</td>\n      <td>0</td>\n      <td>0</td>\n      <td>0</td>\n      <td>0</td>\n      <td>0</td>\n    </tr>\n  </tbody>\n</table>\n<p>5 rows × 657 columns</p>\n</div>"
     },
     "execution_count": 4,
     "metadata": {},
     "output_type": "execute_result"
    }
   ],
   "source": [
    "predict_data.head()"
   ],
   "metadata": {
    "collapsed": false,
    "pycharm": {
     "name": "#%%\n"
    }
   }
  },
  {
   "cell_type": "markdown",
   "source": [
    "数据大小"
   ],
   "metadata": {
    "collapsed": false
   }
  },
  {
   "cell_type": "code",
   "execution_count": 5,
   "outputs": [
    {
     "data": {
      "text/plain": "(23432, 657)"
     },
     "execution_count": 5,
     "metadata": {},
     "output_type": "execute_result"
    }
   ],
   "source": [
    "train_data.shape"
   ],
   "metadata": {
    "collapsed": false,
    "pycharm": {
     "name": "#%%\n"
    }
   }
  },
  {
   "cell_type": "code",
   "execution_count": 6,
   "outputs": [
    {
     "data": {
      "text/plain": "(6771, 657)"
     },
     "execution_count": 6,
     "metadata": {},
     "output_type": "execute_result"
    }
   ],
   "source": [
    "predict_data.shape"
   ],
   "metadata": {
    "collapsed": false,
    "pycharm": {
     "name": "#%%\n"
    }
   }
  },
  {
   "cell_type": "markdown",
   "source": [
    "数据描述"
   ],
   "metadata": {
    "collapsed": false
   }
  },
  {
   "cell_type": "code",
   "execution_count": 7,
   "outputs": [
    {
     "data": {
      "text/plain": "Index(['pax_name', 'pax_passport', 'seg_route_from', 'seg_route_to',\n       'seg_flight', 'seg_cabin', 'seg_dep_time', 'pax_fcny', 'pax_tax',\n       'emd_lable',\n       ...\n       'pit_pay_avg_amt_m3', 'pit_pay_avg_amt_m6', 'pit_pay_avg_amt_y1',\n       'pit_pay_avg_amt_y2', 'pit_pay_avg_amt_y3', 'pit_add_chnl_m3',\n       'pit_add_chnl_m6', 'pit_add_chnl_y1', 'pit_add_chnl_y2',\n       'pit_add_chnl_y3'],\n      dtype='object', length=657)"
     },
     "execution_count": 7,
     "metadata": {},
     "output_type": "execute_result"
    }
   ],
   "source": [
    "train_data.columns"
   ],
   "metadata": {
    "collapsed": false,
    "pycharm": {
     "name": "#%%\n"
    }
   }
  },
  {
   "cell_type": "code",
   "execution_count": 8,
   "outputs": [
    {
     "data": {
      "text/plain": "           pax_fcny        pax_tax     emd_lable    emd_lable2       ffp_nbr  \\\ncount  2.343200e+04   23432.000000  23432.000000  23432.000000  2.343200e+04   \nmean   2.228530e+04   15419.391633      0.307357      0.062948  1.191666e+11   \nstd    1.178487e+05   69443.024026      0.461409      0.242875  2.476115e+11   \nmin    0.000000e+00       0.000000      0.000000      0.000000  0.000000e+00   \n25%    3.177500e+02     242.525000      0.000000      0.000000  0.000000e+00   \n50%    5.680000e+02     299.360000      0.000000      0.000000  0.000000e+00   \n75%    1.196000e+03     454.060000      1.000000      0.000000  0.000000e+00   \nmax    4.264300e+06  636700.000000      1.000000      1.000000  6.640210e+11   \n\n       often_city  cabin_hf_cnt_m3  cabin_hf_cnt_m6  cabin_hf_cnt_y1  \\\ncount     23432.0     23432.000000     23432.000000     23432.000000   \nmean          0.0         0.001152         0.001494         0.002390   \nstd           0.0         0.044772         0.049300         0.063294   \nmin           0.0         0.000000         0.000000         0.000000   \n25%           0.0         0.000000         0.000000         0.000000   \n50%           0.0         0.000000         0.000000         0.000000   \n75%           0.0         0.000000         0.000000         0.000000   \nmax           0.0         2.000000         2.000000         3.000000   \n\n       cabin_hf_cnt_y2  ...  pit_income_avg_amt_m3  pit_income_avg_amt_m6  \\\ncount     23432.000000  ...           23432.000000           23432.000000   \nmean          0.011821  ...              21.296806             156.219197   \nstd           0.262108  ...             476.224768            1531.406590   \nmin           0.000000  ...               0.000000               0.000000   \n25%           0.000000  ...               0.000000               0.000000   \n50%           0.000000  ...               0.000000               0.000000   \n75%           0.000000  ...               0.000000               0.000000   \nmax          21.000000  ...           24723.000000           75838.000000   \n\n       pit_income_avg_amt_y1  pit_income_avg_amt_y2  pit_income_avg_amt_y3  \\\ncount           23432.000000           23432.000000           23432.000000   \nmean              270.001519             457.179858             475.895791   \nstd              1776.295781            2123.088646            2124.994453   \nmin                 0.000000               0.000000               0.000000   \n25%                 0.000000               0.000000               0.000000   \n50%                 0.000000               0.000000               0.000000   \n75%                 0.000000               0.000000               0.000000   \nmax             51828.000000           48303.000000           58788.000000   \n\n       pit_pay_avg_amt_m3  pit_pay_avg_amt_m6  pit_pay_avg_amt_y1  \\\ncount        23432.000000        23432.000000        23432.000000   \nmean            13.526929          391.267497          558.013831   \nstd           1015.707057         6437.739144         7310.016638   \nmin              0.000000            0.000000            0.000000   \n25%              0.000000            0.000000            0.000000   \n50%              0.000000            0.000000            0.000000   \n75%              0.000000            0.000000            0.000000   \nmax          88000.000000       250000.000000       250000.000000   \n\n       pit_pay_avg_amt_y2  pit_pay_avg_amt_y3  \ncount        23432.000000        23432.000000  \nmean           748.363176          807.320277  \nstd           7814.222711         7856.874798  \nmin              0.000000            0.000000  \n25%              0.000000            0.000000  \n50%              0.000000            0.000000  \n75%              0.000000            0.000000  \nmax         231000.000000       255750.000000  \n\n[8 rows x 524 columns]",
      "text/html": "<div>\n<style scoped>\n    .dataframe tbody tr th:only-of-type {\n        vertical-align: middle;\n    }\n\n    .dataframe tbody tr th {\n        vertical-align: top;\n    }\n\n    .dataframe thead th {\n        text-align: right;\n    }\n</style>\n<table border=\"1\" class=\"dataframe\">\n  <thead>\n    <tr style=\"text-align: right;\">\n      <th></th>\n      <th>pax_fcny</th>\n      <th>pax_tax</th>\n      <th>emd_lable</th>\n      <th>emd_lable2</th>\n      <th>ffp_nbr</th>\n      <th>often_city</th>\n      <th>cabin_hf_cnt_m3</th>\n      <th>cabin_hf_cnt_m6</th>\n      <th>cabin_hf_cnt_y1</th>\n      <th>cabin_hf_cnt_y2</th>\n      <th>...</th>\n      <th>pit_income_avg_amt_m3</th>\n      <th>pit_income_avg_amt_m6</th>\n      <th>pit_income_avg_amt_y1</th>\n      <th>pit_income_avg_amt_y2</th>\n      <th>pit_income_avg_amt_y3</th>\n      <th>pit_pay_avg_amt_m3</th>\n      <th>pit_pay_avg_amt_m6</th>\n      <th>pit_pay_avg_amt_y1</th>\n      <th>pit_pay_avg_amt_y2</th>\n      <th>pit_pay_avg_amt_y3</th>\n    </tr>\n  </thead>\n  <tbody>\n    <tr>\n      <th>count</th>\n      <td>2.343200e+04</td>\n      <td>23432.000000</td>\n      <td>23432.000000</td>\n      <td>23432.000000</td>\n      <td>2.343200e+04</td>\n      <td>23432.0</td>\n      <td>23432.000000</td>\n      <td>23432.000000</td>\n      <td>23432.000000</td>\n      <td>23432.000000</td>\n      <td>...</td>\n      <td>23432.000000</td>\n      <td>23432.000000</td>\n      <td>23432.000000</td>\n      <td>23432.000000</td>\n      <td>23432.000000</td>\n      <td>23432.000000</td>\n      <td>23432.000000</td>\n      <td>23432.000000</td>\n      <td>23432.000000</td>\n      <td>23432.000000</td>\n    </tr>\n    <tr>\n      <th>mean</th>\n      <td>2.228530e+04</td>\n      <td>15419.391633</td>\n      <td>0.307357</td>\n      <td>0.062948</td>\n      <td>1.191666e+11</td>\n      <td>0.0</td>\n      <td>0.001152</td>\n      <td>0.001494</td>\n      <td>0.002390</td>\n      <td>0.011821</td>\n      <td>...</td>\n      <td>21.296806</td>\n      <td>156.219197</td>\n      <td>270.001519</td>\n      <td>457.179858</td>\n      <td>475.895791</td>\n      <td>13.526929</td>\n      <td>391.267497</td>\n      <td>558.013831</td>\n      <td>748.363176</td>\n      <td>807.320277</td>\n    </tr>\n    <tr>\n      <th>std</th>\n      <td>1.178487e+05</td>\n      <td>69443.024026</td>\n      <td>0.461409</td>\n      <td>0.242875</td>\n      <td>2.476115e+11</td>\n      <td>0.0</td>\n      <td>0.044772</td>\n      <td>0.049300</td>\n      <td>0.063294</td>\n      <td>0.262108</td>\n      <td>...</td>\n      <td>476.224768</td>\n      <td>1531.406590</td>\n      <td>1776.295781</td>\n      <td>2123.088646</td>\n      <td>2124.994453</td>\n      <td>1015.707057</td>\n      <td>6437.739144</td>\n      <td>7310.016638</td>\n      <td>7814.222711</td>\n      <td>7856.874798</td>\n    </tr>\n    <tr>\n      <th>min</th>\n      <td>0.000000e+00</td>\n      <td>0.000000</td>\n      <td>0.000000</td>\n      <td>0.000000</td>\n      <td>0.000000e+00</td>\n      <td>0.0</td>\n      <td>0.000000</td>\n      <td>0.000000</td>\n      <td>0.000000</td>\n      <td>0.000000</td>\n      <td>...</td>\n      <td>0.000000</td>\n      <td>0.000000</td>\n      <td>0.000000</td>\n      <td>0.000000</td>\n      <td>0.000000</td>\n      <td>0.000000</td>\n      <td>0.000000</td>\n      <td>0.000000</td>\n      <td>0.000000</td>\n      <td>0.000000</td>\n    </tr>\n    <tr>\n      <th>25%</th>\n      <td>3.177500e+02</td>\n      <td>242.525000</td>\n      <td>0.000000</td>\n      <td>0.000000</td>\n      <td>0.000000e+00</td>\n      <td>0.0</td>\n      <td>0.000000</td>\n      <td>0.000000</td>\n      <td>0.000000</td>\n      <td>0.000000</td>\n      <td>...</td>\n      <td>0.000000</td>\n      <td>0.000000</td>\n      <td>0.000000</td>\n      <td>0.000000</td>\n      <td>0.000000</td>\n      <td>0.000000</td>\n      <td>0.000000</td>\n      <td>0.000000</td>\n      <td>0.000000</td>\n      <td>0.000000</td>\n    </tr>\n    <tr>\n      <th>50%</th>\n      <td>5.680000e+02</td>\n      <td>299.360000</td>\n      <td>0.000000</td>\n      <td>0.000000</td>\n      <td>0.000000e+00</td>\n      <td>0.0</td>\n      <td>0.000000</td>\n      <td>0.000000</td>\n      <td>0.000000</td>\n      <td>0.000000</td>\n      <td>...</td>\n      <td>0.000000</td>\n      <td>0.000000</td>\n      <td>0.000000</td>\n      <td>0.000000</td>\n      <td>0.000000</td>\n      <td>0.000000</td>\n      <td>0.000000</td>\n      <td>0.000000</td>\n      <td>0.000000</td>\n      <td>0.000000</td>\n    </tr>\n    <tr>\n      <th>75%</th>\n      <td>1.196000e+03</td>\n      <td>454.060000</td>\n      <td>1.000000</td>\n      <td>0.000000</td>\n      <td>0.000000e+00</td>\n      <td>0.0</td>\n      <td>0.000000</td>\n      <td>0.000000</td>\n      <td>0.000000</td>\n      <td>0.000000</td>\n      <td>...</td>\n      <td>0.000000</td>\n      <td>0.000000</td>\n      <td>0.000000</td>\n      <td>0.000000</td>\n      <td>0.000000</td>\n      <td>0.000000</td>\n      <td>0.000000</td>\n      <td>0.000000</td>\n      <td>0.000000</td>\n      <td>0.000000</td>\n    </tr>\n    <tr>\n      <th>max</th>\n      <td>4.264300e+06</td>\n      <td>636700.000000</td>\n      <td>1.000000</td>\n      <td>1.000000</td>\n      <td>6.640210e+11</td>\n      <td>0.0</td>\n      <td>2.000000</td>\n      <td>2.000000</td>\n      <td>3.000000</td>\n      <td>21.000000</td>\n      <td>...</td>\n      <td>24723.000000</td>\n      <td>75838.000000</td>\n      <td>51828.000000</td>\n      <td>48303.000000</td>\n      <td>58788.000000</td>\n      <td>88000.000000</td>\n      <td>250000.000000</td>\n      <td>250000.000000</td>\n      <td>231000.000000</td>\n      <td>255750.000000</td>\n    </tr>\n  </tbody>\n</table>\n<p>8 rows × 524 columns</p>\n</div>"
     },
     "execution_count": 8,
     "metadata": {},
     "output_type": "execute_result"
    }
   ],
   "source": [
    "train_data.describe()"
   ],
   "metadata": {
    "collapsed": false,
    "pycharm": {
     "name": "#%%\n"
    }
   }
  },
  {
   "cell_type": "code",
   "execution_count": 9,
   "outputs": [
    {
     "data": {
      "text/plain": "0        0.830659\n21-30    0.052322\n31-40    0.039391\n51-60    0.025777\n41-50    0.023472\n60+      0.022320\n44155    0.004609\n0-10     0.001451\nName: age, dtype: float64"
     },
     "execution_count": 9,
     "metadata": {},
     "output_type": "execute_result"
    }
   ],
   "source": [
    "train_data['age'].value_counts(normalize=True)"
   ],
   "metadata": {
    "collapsed": false,
    "pycharm": {
     "name": "#%%\n"
    }
   }
  }
 ],
 "metadata": {
  "kernelspec": {
   "display_name": "Python 3",
   "language": "python",
   "name": "python3"
  },
  "language_info": {
   "codemirror_mode": {
    "name": "ipython",
    "version": 2
   },
   "file_extension": ".py",
   "mimetype": "text/x-python",
   "name": "python",
   "nbconvert_exporter": "python",
   "pygments_lexer": "ipython2",
   "version": "2.7.6"
  }
 },
 "nbformat": 4,
 "nbformat_minor": 0
}